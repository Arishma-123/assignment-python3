{
  "cells": [
    {
      "cell_type": "markdown",
      "metadata": {
        "id": "view-in-github",
        "colab_type": "text"
      },
      "source": [
        "<a href=\"https://colab.research.google.com/github/Arishma-123/assignment-python3/blob/main/Reading_csv_and_excel_file.ipynb\" target=\"_parent\"><img src=\"https://colab.research.google.com/assets/colab-badge.svg\" alt=\"Open In Colab\"/></a>"
      ]
    },
    {
      "cell_type": "code",
      "execution_count": null,
      "metadata": {
        "id": "serE92Fg8E12"
      },
      "outputs": [],
      "source": [
        "# importing pandas library\n",
        "\n",
        "import pandas as pd"
      ]
    },
    {
      "cell_type": "code",
      "execution_count": null,
      "metadata": {
        "id": "cM3avgbB8E14"
      },
      "outputs": [],
      "source": [
        "# Reading the csv file\n",
        "\n",
        "df = pd.read_csv(\"data.csv\")"
      ]
    },
    {
      "cell_type": "code",
      "execution_count": null,
      "metadata": {
        "id": "9ZSSGHRx8E15"
      },
      "outputs": [],
      "source": [
        "df.head()"
      ]
    },
    {
      "cell_type": "code",
      "execution_count": null,
      "metadata": {
        "id": "xj9V8DOo8E15"
      },
      "outputs": [],
      "source": [
        "# Reading excel file\n",
        "\n",
        "df1 = pd.read_excel(\"data.xlsx\")"
      ]
    },
    {
      "cell_type": "code",
      "execution_count": null,
      "metadata": {
        "id": "BTm_LIOD8E16"
      },
      "outputs": [],
      "source": [
        "df1.head()"
      ]
    },
    {
      "cell_type": "code",
      "execution_count": null,
      "metadata": {
        "id": "3NhDhYrG8E16"
      },
      "outputs": [],
      "source": [
        "#Code for seeing top 5 rows in the datset"
      ]
    },
    {
      "cell_type": "code",
      "execution_count": null,
      "metadata": {
        "id": "uDO5bxzZ8E17"
      },
      "outputs": [],
      "source": [
        "# Find Missing Values using  isNuLL() in following columns - - age , Embarked ,Cabin"
      ]
    },
    {
      "cell_type": "code",
      "execution_count": null,
      "metadata": {
        "id": "WZMdejx98E17"
      },
      "outputs": [],
      "source": [
        "#Visualize the age of  passengers as bar chart ( age V/s count)"
      ]
    },
    {
      "cell_type": "code",
      "execution_count": null,
      "metadata": {
        "id": "BDqXqL7U8E18"
      },
      "outputs": [],
      "source": [
        "#calculate the average age of passengers\n"
      ]
    },
    {
      "cell_type": "code",
      "execution_count": null,
      "metadata": {
        "id": "22bIZYZ_8E19"
      },
      "outputs": [],
      "source": [
        "#Fill the missing values (with mean values) using fillna - in following columns  - age , Embarked ,Cabin\n"
      ]
    },
    {
      "cell_type": "code",
      "execution_count": null,
      "metadata": {
        "id": "VFbsM3fO8E19"
      },
      "outputs": [],
      "source": [
        "# Line Plot the  Age wise count of both Survived Population and Deceased Population'"
      ]
    },
    {
      "cell_type": "code",
      "execution_count": null,
      "metadata": {
        "id": "wcmtP2sG8E1-"
      },
      "outputs": [],
      "source": [
        "# Line Plot the  Fare wise count of both Survived Population and Deceased Population'"
      ]
    },
    {
      "cell_type": "code",
      "execution_count": null,
      "metadata": {
        "id": "kbP1OSmk8E1-"
      },
      "outputs": [],
      "source": [
        "#Bar plot of Passenger Class of  Survived Population"
      ]
    },
    {
      "cell_type": "code",
      "execution_count": null,
      "metadata": {
        "id": "Cl-ZdeI48E1-"
      },
      "outputs": [],
      "source": [
        "# Bar Plot of  Traveling Alone vs. With Family"
      ]
    },
    {
      "cell_type": "code",
      "execution_count": null,
      "metadata": {
        "id": "V2HMEH4j8E1_"
      },
      "outputs": [],
      "source": [
        "#Bar plot of Gender Variable "
      ]
    },
    {
      "cell_type": "code",
      "execution_count": null,
      "metadata": {
        "id": "2y7iIq8q8E1_"
      },
      "outputs": [],
      "source": [
        ""
      ]
    }
  ],
  "metadata": {
    "kernelspec": {
      "display_name": "Python 3",
      "language": "python",
      "name": "python3"
    },
    "language_info": {
      "codemirror_mode": {
        "name": "ipython",
        "version": 3
      },
      "file_extension": ".py",
      "mimetype": "text/x-python",
      "name": "python",
      "nbconvert_exporter": "python",
      "pygments_lexer": "ipython3",
      "version": "3.5.5"
    },
    "colab": {
      "name": "Reading csv and excel file.ipynb",
      "provenance": [],
      "include_colab_link": true
    }
  },
  "nbformat": 4,
  "nbformat_minor": 0
}